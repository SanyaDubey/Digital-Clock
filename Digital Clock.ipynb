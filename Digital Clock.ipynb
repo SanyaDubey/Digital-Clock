{
 "cells": [
  {
   "cell_type": "code",
   "execution_count": 1,
   "metadata": {},
   "outputs": [],
   "source": [
    "# Importing the necessary libraries\n",
    "from tkinter import *\n",
    "import time"
   ]
  },
  {
   "cell_type": "code",
   "execution_count": 2,
   "metadata": {},
   "outputs": [],
   "source": [
    "# Creating the object of Tkinter\n",
    "clock = Tk()"
   ]
  },
  {
   "cell_type": "code",
   "execution_count": 3,
   "metadata": {},
   "outputs": [],
   "source": [
    "# Setting the appearance of the digital clock window.\n",
    "# Title\n",
    "clock.title(\"Digital Clock\")\n",
    "\n",
    "# Dimensions\n",
    "clock.geometry(\"550x200\")\n",
    "\n",
    "# Window's background color\n",
    "clock.config(bg='#18001F')"
   ]
  },
  {
   "cell_type": "code",
   "execution_count": 4,
   "metadata": {},
   "outputs": [],
   "source": [
    "# Setting the appearance of the digital clock.\n",
    "text_font = (\"Boulder\", 50, 'bold')\n",
    "background = '#ffeda4'\n",
    "foreground = '#18001F'"
   ]
  },
  {
   "cell_type": "code",
   "execution_count": 5,
   "metadata": {},
   "outputs": [],
   "source": [
    "# Creating and setting the labels in a format to dispay the time.\n",
    "# Current Time\n",
    "label_time = Label(clock, font = text_font, bg = background, fg = foreground)\n",
    "label_time.place(x = 50, y = 50, width = 300, height = 90)\n",
    "\n",
    "# Meridiem\n",
    "label = Label(clock, font = text_font, bg = background, fg = foreground)\n",
    "label.place(x = 365, y = 50, width = 120, height = 90)"
   ]
  },
  {
   "cell_type": "code",
   "execution_count": 6,
   "metadata": {},
   "outputs": [],
   "source": [
    "# Function to display the current time.\n",
    "def digital_clock():\n",
    "    current_time = time.strftime(\"%H:%M:%S\")\n",
    "    label_time.config(text = current_time)\n",
    "    \n",
    "    meridiem = time.strftime(\"%p\")\n",
    "    label.config(text = meridiem)\n",
    "    \n",
    "    label_time.after(1000, digital_clock)\n",
    "    \n",
    "    \n",
    "# Calling the defined function.\n",
    "digital_clock()"
   ]
  },
  {
   "cell_type": "code",
   "execution_count": 7,
   "metadata": {},
   "outputs": [],
   "source": [
    "# Creating a window to hold the data to be displayed.\n",
    "clock.mainloop()"
   ]
  }
 ],
 "metadata": {
  "kernelspec": {
   "display_name": "Python 3",
   "language": "python",
   "name": "python3"
  },
  "language_info": {
   "codemirror_mode": {
    "name": "ipython",
    "version": 3
   },
   "file_extension": ".py",
   "mimetype": "text/x-python",
   "name": "python",
   "nbconvert_exporter": "python",
   "pygments_lexer": "ipython3",
   "version": "3.8.5"
  }
 },
 "nbformat": 4,
 "nbformat_minor": 4
}
